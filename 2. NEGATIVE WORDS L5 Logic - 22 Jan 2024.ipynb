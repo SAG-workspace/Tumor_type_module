{
 "cells": [
  {
   "cell_type": "markdown",
   "id": "9b88bd58",
   "metadata": {},
   "source": [
    "# Negative-Words Logic Provided by Basem"
   ]
  },
  {
   "cell_type": "code",
   "execution_count": 1,
   "id": "a748ea86",
   "metadata": {},
   "outputs": [],
   "source": [
    "import warnings\n",
    "\n",
    "# Suppress all warnings\n",
    "warnings.filterwarnings(\"ignore\")"
   ]
  },
  {
   "cell_type": "code",
   "execution_count": null,
   "id": "edef44a8",
   "metadata": {},
   "outputs": [],
   "source": [
    "import numpy as np\n",
    "import pandas as pd\n",
    "# parent_file=pd.read_excel(\"main_tumor_type_with_unique_number1.xlsx\", header=None)\n",
    "# parent_file=pd.read_pickle(\"/Volumes/D_Drive/PALM/master tumor type logic - basem Jan 2024/master3.pkl\")\n",
    "\n",
    "# Loading the pickled DataFrame from the specified file\n",
    "parent_file = pd.read_pickle(\"./master3.pkl\")\n",
    "\n",
    "# Replacing all missing values (NaN) in the DataFrame with empty strings\n",
    "parent_file.fillna('', inplace=True)\n",
    "\n",
    "# Displaying the first 60 rows of the DataFrame for initial inspection\n",
    "parent_file.head(60)"
   ]
  },
  {
   "cell_type": "code",
   "execution_count": null,
   "id": "aaca2a80",
   "metadata": {},
   "outputs": [],
   "source": [
    "import os\n",
    "\n",
    "# Loading an Excel file containing reference data into a DataFrame\n",
    "file1 = pd.read_excel('..\\Reference_files\\Attachment_3\\Adrenal_Cancer_Alternate_Terms_12_6_24.xlsx', header=None)\n",
    "\n",
    "# Deleting the second column (index 1) from the DataFrame\n",
    "# This operation is performed as column 1 is not needed for the current processing\n",
    "del file1[1]\n",
    "\n",
    "# Displaying the updated DataFrame for further inspection or use\n",
    "file1"
   ]
  },
  {
   "cell_type": "code",
   "execution_count": null,
   "id": "e12a3e69",
   "metadata": {},
   "outputs": [],
   "source": [
    "import os\n",
    "# file1=pd.read_excel('..\\Reference_files\\Attachment_3\\Adrenal_Cancer_Alternate_Terms_12_6_24.xlsx',header=None)\n",
    "\n",
    "# Listing all files in the directory '../Reference_files/Attachment_3'\n",
    "files = os.listdir('../Reference_files/Attachment_3')\n",
    "\n",
    "# Constructing the full file paths for each file in the directory\n",
    "files = [\"..//Reference_files/Attachment_3/\" + i for i in files]\n",
    "\n",
    "# Displaying the list of full file paths\n",
    "files"
   ]
  },
  {
   "cell_type": "code",
   "execution_count": null,
   "id": "c4055728",
   "metadata": {},
   "outputs": [],
   "source": [
    "# Creating a copy of the parent DataFrame to avoid modifying the original data\n",
    "parent_file1 = parent_file.copy()\n",
    "\n",
    "# Iterating through each row in the parent DataFrame\n",
    "for idx, row in parent_file.iterrows():\n",
    "    # Extracting the dictionary of alternate words from the current row\n",
    "    d = row['Alternate_words']\n",
    "    \n",
    "    # Iterating through each key-value pair in the alternate words dictionary\n",
    "    for j in d:\n",
    "        # Cleaning and standardizing the main word for comparison\n",
    "        l1 = d[j]\n",
    "        mw = str(l1[0]).strip().lower().strip().strip().strip()\n",
    "        \n",
    "        # Looping through the list of file paths to process alternate terms\n",
    "        for file1 in files:\n",
    "            # Reading the Excel file into a DataFrame\n",
    "            file1 = pd.read_excel(file1, header=None)\n",
    "            \n",
    "            # Deleting the unnecessary second column for simplicity\n",
    "            del file1[1]\n",
    "            \n",
    "            # Iterating through each row in the Excel DataFrame\n",
    "            for _, f_row2 in file1.iterrows():\n",
    "                # Extracting non-null values from the row as a list\n",
    "                f_l2 = f_row2.dropna().values.tolist()\n",
    "                \n",
    "                # Standardizing alternate terms for comparison\n",
    "                if len(f_l2) > 0:\n",
    "                    fw = str(f_l2[0]).strip().lower().replace('\\xa0', '').strip()\n",
    "                    f_l2 = [str(i).strip().lower().replace('\\xa0', '').strip() for i in f_l2]\n",
    "                \n",
    "                # Checking if the main word matches the first alternate term\n",
    "                if mw == fw:\n",
    "                    # Updating the dictionary with combined alternate terms\n",
    "                    l = l1 + f_l2\n",
    "                    d[j] = l\n",
    "        \n",
    "        # Updating the alternate words column in the copied DataFrame\n",
    "        parent_file1.at[idx, 'Alternate_words'] = d\n"
   ]
  },
  {
   "cell_type": "code",
   "execution_count": 15,
   "id": "5d6285af",
   "metadata": {
    "scrolled": true
   },
   "outputs": [],
   "source": [
    "# Saving the updated DataFrame to a pickle file named 'master4.pkl'\n",
    "\n",
    "parent_file1.to_pickle('master4.pkl')"
   ]
  },
  {
   "cell_type": "markdown",
   "id": "853a28d3",
   "metadata": {},
   "source": [
    "# Code Ends \n",
    "## Master4.pkl is used in the next sequel file (Serial # 3)"
   ]
  }
 ],
 "metadata": {
  "kernelspec": {
   "display_name": "Python 3",
   "language": "python",
   "name": "python3"
  },
  "language_info": {
   "codemirror_mode": {
    "name": "ipython",
    "version": 3
   },
   "file_extension": ".py",
   "mimetype": "text/x-python",
   "name": "python",
   "nbconvert_exporter": "python",
   "pygments_lexer": "ipython3",
   "version": "3.10.11"
  }
 },
 "nbformat": 4,
 "nbformat_minor": 5
}
